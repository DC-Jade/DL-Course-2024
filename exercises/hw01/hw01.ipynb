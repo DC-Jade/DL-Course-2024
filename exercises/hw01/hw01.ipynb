{
 "cells": [
  {
   "cell_type": "markdown",
   "metadata": {
    "id": "AzDBM_v4iMe7"
   },
   "source": [
    "# Homework 1 - PyTorch Fundamentals Exercises\n",
    "\n",
    "### 1. Documentation reading \n",
    "\n",
    "A big part of deep learning (and learning to code in general) is getting familiar with the documentation of a certain framework you're using. We'll be using the PyTorch documentation a lot throughout the rest of this course. So I'd recommend spending 10-minutes reading the following (it's okay if you don't get some things for now, the focus is not yet full understanding, it's awareness):\n",
    "  * The documentation on [`torch.Tensor`](https://pytorch.org/docs/stable/tensors.html#torch-tensor).\n",
    "  * The documentation on [`torch.cuda`](https://pytorch.org/docs/master/notes/cuda.html#cuda-semantics).\n",
    "\n",
    "Please install [anaconda](https://docs.anaconda.com/) and create a new environment for this course. \n",
    "```shell\n",
    "conda create -n dl python=3.8 -y\n",
    "conda activate dl\n",
    "```\n",
    "Then, you can install pytorch with conda according to the [official webcite](https://pytorch.org/get-started/previous-versions/). If you are using GPU workspace, you can use the following scripts to install:\n",
    "```shell\n",
    "conda install pytorch==1.11.0 torchvision==0.12.0 torchaudio==0.11.0 cudatoolkit=11.3 -c pytorch  # the torch version can be changed\n",
    "```\n",
    "If you are using a laptop without cuda, you can install the environment by the following scripts:\n",
    "```shell\n",
    "pip install torch==1.11.0+cpu torchvision==0.12.0+cpu torchaudio==0.11.0 --extra-index-url https://download.pytorch.org/whl/cpu\n",
    "```"
   ]
  },
  {
   "cell_type": "code",
   "execution_count": 14,
   "metadata": {
    "id": "bGD0oD8Kizak"
   },
   "outputs": [],
   "source": [
    "# No code solution (reading)"
   ]
  },
  {
   "cell_type": "markdown",
   "metadata": {
    "id": "__iXqqz-ioUJ"
   },
   "source": [
    "### 2. Create a random tensor with shape `(7, 7)`.\n"
   ]
  },
  {
   "cell_type": "code",
   "execution_count": 15,
   "metadata": {},
   "outputs": [],
   "source": [
    "# tmp test\n",
    "# import numpy as np\n",
    "# import random\n",
    "# print(list(range(0, 7)))\n",
    "\n",
    "# array = np.empty((7,7))\n",
    "# print(array)\n",
    "# for i in range(0, 7):\n",
    "#     for k in range(0, 7):\n",
    "#         array[i, k] = random.random()\n",
    "# print(array)\n"
   ]
  },
  {
   "cell_type": "code",
   "execution_count": 1,
   "metadata": {
    "id": "6pUq9Dc8i2L7"
   },
   "outputs": [
    {
     "ename": "ModuleNotFoundError",
     "evalue": "No module named 'torch'",
     "output_type": "error",
     "traceback": [
      "\u001b[0;31m---------------------------------------------------------------------------\u001b[0m",
      "\u001b[0;31mModuleNotFoundError\u001b[0m                       Traceback (most recent call last)",
      "Cell \u001b[0;32mIn[1], line 2\u001b[0m\n\u001b[1;32m      1\u001b[0m \u001b[38;5;66;03m# Import torch\u001b[39;00m\n\u001b[0;32m----> 2\u001b[0m \u001b[38;5;28;01mimport\u001b[39;00m \u001b[38;5;21;01mtorch\u001b[39;00m\n\u001b[1;32m      3\u001b[0m \u001b[38;5;28;01mimport\u001b[39;00m \u001b[38;5;21;01mnumpy\u001b[39;00m \u001b[38;5;28;01mas\u001b[39;00m \u001b[38;5;21;01mnp\u001b[39;00m\n\u001b[1;32m      4\u001b[0m \u001b[38;5;28;01mimport\u001b[39;00m \u001b[38;5;21;01mrandom\u001b[39;00m\n",
      "\u001b[0;31mModuleNotFoundError\u001b[0m: No module named 'torch'"
     ]
    }
   ],
   "source": [
    "# Import torch\n",
    "import torch\n",
    "import numpy as np\n",
    "import random\n",
    "\n",
    "# Create random tensor\n",
    "first_array = np.empty((7,7))\n",
    "print(array)\n",
    "for i in range(0, 7):\n",
    "    for k in range(0, 7):\n",
    "        first_array[i, k] = random.random()\n",
    "first_tensor = torch.Tensor(first_array)\n",
    "print(first_tensor)"
   ]
  },
  {
   "cell_type": "markdown",
   "metadata": {
    "id": "9-XxvRLfiqkR"
   },
   "source": [
    "### 3. Perform a matrix multiplication on the tensor from 2 with another random tensor with shape `(1, 7)` (hint: you may have to transpose the second tensor)."
   ]
  },
  {
   "cell_type": "code",
   "execution_count": 27,
   "metadata": {},
   "outputs": [
    {
     "data": {
      "text/plain": [
       "[78, 93, 65, 37, 25, 89, 62]"
      ]
     },
     "execution_count": 27,
     "metadata": {},
     "output_type": "execute_result"
    }
   ],
   "source": [
    "random.sample(range(0, 100), 7)"
   ]
  },
  {
   "cell_type": "code",
   "execution_count": 28,
   "metadata": {
    "id": "NcLqR0Sbi_vT"
   },
   "outputs": [
    {
     "name": "stdout",
     "output_type": "stream",
     "text": [
      "tensor([0.8705, 0.0693, 0.0595, 0.2272, 0.4582, 0.1259, 0.3439])\n",
      "tensor([0.8705, 0.0693, 0.0595, 0.2272, 0.4582, 0.1259, 0.3439])\n",
      "tensor([[7.3176e-01, 1.8505e-02, 5.8505e-03, 1.0147e-02, 1.9480e-01, 2.4692e-02,\n",
      "         1.5633e-01],\n",
      "        [3.7360e-01, 3.1469e-02, 3.0909e-02, 2.7898e-02, 2.5210e-01, 1.1683e-01,\n",
      "         1.7694e-01],\n",
      "        [2.3096e-02, 5.1116e-02, 4.7506e-02, 2.9821e-02, 3.3749e-01, 1.1436e-01,\n",
      "         1.6345e-01],\n",
      "        [6.1141e-01, 1.5039e-02, 2.1472e-02, 9.2945e-02, 4.3167e-01, 1.2320e-01,\n",
      "         5.7651e-02],\n",
      "        [4.1904e-01, 3.1110e-02, 1.2753e-02, 4.4394e-02, 3.7083e-01, 9.2671e-03,\n",
      "         1.8008e-01],\n",
      "        [7.4980e-01, 2.3131e-02, 3.8901e-02, 5.8578e-02, 4.3442e-01, 7.3495e-02,\n",
      "         9.7811e-02],\n",
      "        [5.6881e-01, 1.6827e-03, 2.9750e-04, 1.3919e-01, 4.4372e-01, 7.5337e-02,\n",
      "         2.5720e-01]])\n"
     ]
    }
   ],
   "source": [
    "# Create another random tensor\n",
    "# num_list = list(random.sample(range(0, 1), 7))\n",
    "num_list = [random.random() for _ in range(7)]\n",
    "second_tensor = torch.Tensor(num_list)\n",
    "print(second_tensor)\n",
    "print(second_tensor.t())\n",
    "# Perform matrix multiplication \n",
    "print(first_tensor * second_tensor.t())"
   ]
  },
  {
   "cell_type": "markdown",
   "metadata": {
    "id": "eiutdKUFiryU"
   },
   "source": [
    "### 4. Set the random seed to `0` and do 2 & 3 over again.\n",
    "\n",
    "The output should be:\n",
    "```\n",
    "(tensor([[1.8542],\n",
    "         [1.9611],\n",
    "         [2.2884],\n",
    "         [3.0481],\n",
    "         [1.7067],\n",
    "         [2.5290],\n",
    "         [1.7989]]), torch.Size([7, 1]))\n",
    "```"
   ]
  },
  {
   "cell_type": "code",
   "execution_count": 47,
   "metadata": {
    "id": "D-lOWI_1jRMm"
   },
   "outputs": [
    {
     "name": "stdout",
     "output_type": "stream",
     "text": [
      "[[0.84442185 0.7579544  0.42057158 0.25891675 0.51127472 0.40493414\n",
      "  0.78379859]\n",
      " [0.30331273 0.47659695 0.58338204 0.90811289 0.50468686 0.28183784\n",
      "  0.7558042 ]\n",
      " [0.618369   0.25050634 0.90974626 0.98278548 0.81021724 0.90216595\n",
      "  0.31014757]\n",
      " [0.72983175 0.89883829 0.68398393 0.47214272 0.10070121 0.43417184\n",
      "  0.61088697]\n",
      " [0.91301105 0.96660637 0.47700978 0.86530993 0.26049231 0.80502783\n",
      "  0.5486993 ]\n",
      " [0.0140417  0.71970469 0.39882354 0.82484498 0.6681532  0.00114282\n",
      "  0.49357787]\n",
      " [0.86760278 0.24391088 0.32520436 0.87047123 0.19106709 0.56751074\n",
      "  0.23861593]]\n",
      "tensor([2.7355, 2.0204, 2.2930, 2.5951, 2.9472, 1.5115, 1.8231])\n"
     ]
    }
   ],
   "source": [
    "# Set manual seed\n",
    "seed = 0\n",
    "random.seed(seed)\n",
    "\n",
    "# Create two random tensors\n",
    "# first_array = np.empty((7,7))\n",
    "first_array = [[random.random() for _ in range(7)] for _ in range(7)]\n",
    "first_array = np.array(first_array)\n",
    "print(first_array)\n",
    "first_tensor = torch.Tensor(first_array)\n",
    "num_list = [random.random() for _ in range(7)]\n",
    "second_tensor = torch.Tensor(num_list)\n",
    "\n",
    "# Matrix multiply tensors\n",
    "print(torch.matmul(first_tensor, second_tensor.t()))"
   ]
  },
  {
   "cell_type": "markdown",
   "metadata": {
    "id": "ezY6ks9Cis37"
   },
   "source": [
    "### 5. Speaking of random seeds, we saw how to set it with `torch.manual_seed()` but is there a GPU equivalent? (hint: you'll need to look into the documentation for `torch.cuda` for this one)\n",
    "  * If there is, set the GPU random seed to `1234`."
   ]
  },
  {
   "cell_type": "code",
   "execution_count": 38,
   "metadata": {
    "id": "_LKWcfSTjp00"
   },
   "outputs": [
    {
     "data": {
      "text/plain": [
       "<torch._C.Generator at 0x11f284930>"
      ]
     },
     "execution_count": 38,
     "metadata": {},
     "output_type": "execute_result"
    }
   ],
   "source": [
    "# Set random seed on the GPU\n",
    "random_seed = random.random()\n",
    "torch.manual_seed(random_seed)"
   ]
  },
  {
   "cell_type": "markdown",
   "metadata": {
    "id": "Ir9qSaj6it4n"
   },
   "source": [
    "\n",
    "### 6. Create two random tensors of shape `(2, 3)` and send them both to the GPU (you'll need access to a GPU for this). Set `torch.manual_seed(1234)` when creating the tensors (this doesn't have to be the GPU random seed). The output should be something like:\n",
    "\n",
    "```\n",
    "Device: cuda\n",
    "(tensor([[0.0290, 0.4019, 0.2598],\n",
    "         [0.3666, 0.0583, 0.7006]], device='cuda:0'),\n",
    " tensor([[0.0518, 0.4681, 0.6738],\n",
    "         [0.3315, 0.7837, 0.5631]], device='cuda:0'))\n",
    "```"
   ]
  },
  {
   "cell_type": "code",
   "execution_count": 41,
   "metadata": {
    "id": "azXExiFZj5nm"
   },
   "outputs": [
    {
     "name": "stdout",
     "output_type": "stream",
     "text": [
      "GPU is not available\n",
      "tensor([[0.4963, 0.7682, 0.0885],\n",
      "        [0.1320, 0.3074, 0.6341]])\n",
      "tensor([[0.4901, 0.8964, 0.4556],\n",
      "        [0.6323, 0.3489, 0.4017]])\n"
     ]
    }
   ],
   "source": [
    "# Set random seed\n",
    "torch.manual_seed(0)\n",
    "\n",
    "# Check for access to GPU\n",
    "if torch.cuda.is_available():\n",
    "    print(\"GPU is available\")\n",
    "else:\n",
    "    print(\"GPU is not available\")\n",
    "\n",
    "# Create two random tensors on GPU\n",
    "tensor1 = torch.rand(2, 3); print(tensor1)\n",
    "tensor2 = torch.rand(2, 3); print(tensor2)\n"
   ]
  },
  {
   "cell_type": "markdown",
   "metadata": {
    "id": "5TlAxeiSiu1y"
   },
   "source": [
    "\n",
    "### 7. Perform a matrix multiplication on the tensors you created in 6 (again, you may have to adjust the shapes of one of the tensors).\n",
    "\n",
    "The output should look like:\n",
    "```\n",
    "(tensor([[0.3647, 0.4709],\n",
    "         [0.5184, 0.5617]], device='cuda:0'), torch.Size([2, 2]))\n",
    "```"
   ]
  },
  {
   "cell_type": "code",
   "execution_count": 48,
   "metadata": {
    "id": "fAeG7ox0lHEO"
   },
   "outputs": [
    {
     "name": "stdout",
     "output_type": "stream",
     "text": [
      "tensor([[0.9722, 0.6174],\n",
      "        [0.6292, 0.4455]])\n"
     ]
    }
   ],
   "source": [
    "# Perform matmul on tensor_A and tensor_B\n",
    "matmul_tensor = torch.matmul(tensor1, tensor2.t())\n",
    "print(matmul_tensor)"
   ]
  },
  {
   "cell_type": "markdown",
   "metadata": {
    "id": "G7qfa5CSivwg"
   },
   "source": [
    "### 8. Find the maximum and minimum values of the output of 7."
   ]
  },
  {
   "cell_type": "code",
   "execution_count": 49,
   "metadata": {
    "id": "Fu8_3mZpllOd"
   },
   "outputs": [
    {
     "name": "stdout",
     "output_type": "stream",
     "text": [
      "tensor(0.9722)\n",
      "tensor(0.4455)\n"
     ]
    }
   ],
   "source": [
    "# Find max\n",
    "max = torch.max(matmul_tensor); print(max) \n",
    "# Find min\n",
    "min = torch.min(matmul_tensor); print(min) \n"
   ]
  },
  {
   "cell_type": "markdown",
   "metadata": {
    "id": "wrTj5FgNiw47"
   },
   "source": [
    "### 9. Find the maximum and minimum index values of the output of 7."
   ]
  },
  {
   "cell_type": "code",
   "execution_count": 51,
   "metadata": {
    "id": "CCEKt4K2lsfQ"
   },
   "outputs": [
    {
     "name": "stdout",
     "output_type": "stream",
     "text": [
      "tensor(0)\n",
      "tensor(3)\n"
     ]
    }
   ],
   "source": [
    "# Find arg max\n",
    "max_arg = torch.argmax(matmul_tensor); print(max_arg)\n",
    "\n",
    "# Find arg min\n",
    "min_arg = torch.argmin(matmul_tensor); print(min_arg) "
   ]
  },
  {
   "cell_type": "markdown",
   "metadata": {
    "id": "hmeybz4uixy7"
   },
   "source": [
    "\n",
    "### 10. Make a random tensor with shape `(1, 1, 1, 10)` and then create a new tensor with all the `1` dimensions removed to be left with a tensor of shape `(10)`. Set the seed to `7` when you create it and print out the first tensor and it's shape as well as the second tensor and it's shape.\n",
    "\n",
    "The output should look like:\n",
    "\n",
    "```\n",
    "tensor([[[[0.5349, 0.1988, 0.6592, 0.6569, 0.2328, 0.4251, 0.2071, 0.6297,\n",
    "           0.3653, 0.8513]]]]) torch.Size([1, 1, 1, 10])\n",
    "tensor([0.5349, 0.1988, 0.6592, 0.6569, 0.2328, 0.4251, 0.2071, 0.6297, 0.3653,\n",
    "        0.8513]) torch.Size([10])\n",
    "```"
   ]
  },
  {
   "cell_type": "code",
   "execution_count": 56,
   "metadata": {
    "id": "TQ9zbRzVl1jV"
   },
   "outputs": [
    {
     "name": "stdout",
     "output_type": "stream",
     "text": [
      "tensor([[[[0.5349, 0.1988, 0.6592, 0.6569, 0.2328, 0.4251, 0.2071, 0.6297,\n",
      "           0.3653, 0.8513]]]])\n",
      "torch.Size([1, 1, 1, 10])\n",
      "tensor([0.5349, 0.1988, 0.6592, 0.6569, 0.2328, 0.4251, 0.2071, 0.6297, 0.3653,\n",
      "        0.8513])\n",
      "torch.Size([10])\n"
     ]
    }
   ],
   "source": [
    "# Set seed\n",
    "torch.manual_seed(7)\n",
    "\n",
    "# Create random tensor\n",
    "tensor1 = torch.rand(1, 1, 1, 10); \n",
    "\n",
    "# Remove single dimensions\n",
    "tensor2 = tensor1.squeeze()\n",
    "\n",
    "# Print out tensors and their shapes\n",
    "print(tensor1); print(tensor1.shape)\n",
    "print(tensor2); print(tensor2.shape)"
   ]
  }
 ],
 "metadata": {
  "accelerator": "GPU",
  "colab": {
   "collapsed_sections": [],
   "name": "00_pytorch_fundamentals_exercises.ipynb",
   "provenance": []
  },
  "kernelspec": {
   "display_name": "Python 3",
   "language": "python",
   "name": "python3"
  },
  "language_info": {
   "codemirror_mode": {
    "name": "ipython",
    "version": 3
   },
   "file_extension": ".py",
   "mimetype": "text/x-python",
   "name": "python",
   "nbconvert_exporter": "python",
   "pygments_lexer": "ipython3",
   "version": "3.8.19"
  }
 },
 "nbformat": 4,
 "nbformat_minor": 1
}
